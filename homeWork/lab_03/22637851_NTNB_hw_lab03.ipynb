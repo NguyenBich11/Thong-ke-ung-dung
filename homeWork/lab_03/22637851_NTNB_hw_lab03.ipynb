{
 "cells": [
  {
   "cell_type": "markdown",
   "id": "15e9ec4f",
   "metadata": {},
   "source": [
    "# KHÁM PHÁ DỮ LIỆU\n",
    "\n",
    "Dữ liệu chứa trong file `tips.csv` chứa thông tin tiền tip của khách hàng tại một nhà hàng. Dữ liệu có các thông tin sau:\n",
    "\n",
    "- `total_bill`: tổng hoá đơn (USD)\n",
    "- `tip`: tiền tip/ tiền boa (USD)\n",
    "- `sex`: giới tính người thanh toán hóa đơn\n",
    "- `smoker`: có hút thuốc hay không\n",
    "- `day`: ngày trong tuần\n",
    "- `time`: thời gian dùng bữa(buổi sáng, buổi trưa, buổi tối)\n",
    "- `size`: số lượng người tham gia\n",
    "\n",
    "Bạn hãy thực hiện thống kê mô tả để tìm hiểu về hành vi tip của khách hàng tại nhà hàng"
   ]
  },
  {
   "cell_type": "markdown",
   "id": "02bd0e4c",
   "metadata": {},
   "source": [
    "## HIỂU DỮ LIỆU"
   ]
  },
  {
   "cell_type": "markdown",
   "id": "d846edfc",
   "metadata": {},
   "source": [
    "1. Đọc dữ liệu\n",
    "2. Xoá cột `Unnamed: 0`\n",
    "3. Cho biết dữ liệu có bao nhiêu dòng, bao nhiêu thuộc tính.\n",
    "4. Trong các thuộc tính, thuộc tính nào là thuộc tính phân loại, thuộc tính nào là thuộc tính định lượng\n",
    "5. Có bao nhiêu nam, bao nhiêu nữ. Tỷ lệ bao nhiêu?\n",
    "6. Có bao nhiêu người hút thuốc. Tỷ lệ bao nhiêu?\n",
    "7. Ngày nào trong tuần khách hàng hay đến dùng bữa nhất. Tỷ lệ bao nhiêu?\n",
    "8. Nhà hàng phục vụ bữa ăn nào nhiều nhất (Breakfast, Lunch, Dinner)?\n",
    "9. Nhóm khách hàng dùng bữa tại nhà hàng nhiều nhất là bao nhiêu người?\n",
    "10. Trung bình trong một bữa ăn nhà hàng phục vụ mấy khách?"
   ]
  },
  {
   "cell_type": "code",
   "execution_count": 1,
   "id": "8fd24895",
   "metadata": {},
   "outputs": [],
   "source": [
    "import pandas as pd\n",
    "import numpy as np"
   ]
  },
  {
   "cell_type": "markdown",
   "id": "25c01e63",
   "metadata": {},
   "source": [
    "## Câu 1"
   ]
  },
  {
   "cell_type": "code",
   "execution_count": 2,
   "id": "33b1dcb8",
   "metadata": {},
   "outputs": [
    {
     "data": {
      "text/html": [
       "<div>\n",
       "<style scoped>\n",
       "    .dataframe tbody tr th:only-of-type {\n",
       "        vertical-align: middle;\n",
       "    }\n",
       "\n",
       "    .dataframe tbody tr th {\n",
       "        vertical-align: top;\n",
       "    }\n",
       "\n",
       "    .dataframe thead th {\n",
       "        text-align: right;\n",
       "    }\n",
       "</style>\n",
       "<table border=\"1\" class=\"dataframe\">\n",
       "  <thead>\n",
       "    <tr style=\"text-align: right;\">\n",
       "      <th></th>\n",
       "      <th>Unnamed: 0</th>\n",
       "      <th>total_bill</th>\n",
       "      <th>tip</th>\n",
       "      <th>sex</th>\n",
       "      <th>smoker</th>\n",
       "      <th>day</th>\n",
       "      <th>time</th>\n",
       "      <th>size</th>\n",
       "    </tr>\n",
       "  </thead>\n",
       "  <tbody>\n",
       "    <tr>\n",
       "      <th>0</th>\n",
       "      <td>0</td>\n",
       "      <td>16.99</td>\n",
       "      <td>1.01</td>\n",
       "      <td>Female</td>\n",
       "      <td>No</td>\n",
       "      <td>Sun</td>\n",
       "      <td>Dinner</td>\n",
       "      <td>2</td>\n",
       "    </tr>\n",
       "    <tr>\n",
       "      <th>1</th>\n",
       "      <td>1</td>\n",
       "      <td>10.34</td>\n",
       "      <td>1.66</td>\n",
       "      <td>Male</td>\n",
       "      <td>No</td>\n",
       "      <td>Sun</td>\n",
       "      <td>Dinner</td>\n",
       "      <td>3</td>\n",
       "    </tr>\n",
       "    <tr>\n",
       "      <th>2</th>\n",
       "      <td>2</td>\n",
       "      <td>21.01</td>\n",
       "      <td>3.50</td>\n",
       "      <td>Male</td>\n",
       "      <td>No</td>\n",
       "      <td>Sun</td>\n",
       "      <td>Dinner</td>\n",
       "      <td>3</td>\n",
       "    </tr>\n",
       "    <tr>\n",
       "      <th>3</th>\n",
       "      <td>3</td>\n",
       "      <td>23.68</td>\n",
       "      <td>3.31</td>\n",
       "      <td>Male</td>\n",
       "      <td>No</td>\n",
       "      <td>Sun</td>\n",
       "      <td>Dinner</td>\n",
       "      <td>2</td>\n",
       "    </tr>\n",
       "    <tr>\n",
       "      <th>4</th>\n",
       "      <td>4</td>\n",
       "      <td>24.59</td>\n",
       "      <td>3.61</td>\n",
       "      <td>Female</td>\n",
       "      <td>No</td>\n",
       "      <td>Sun</td>\n",
       "      <td>Dinner</td>\n",
       "      <td>4</td>\n",
       "    </tr>\n",
       "    <tr>\n",
       "      <th>5</th>\n",
       "      <td>5</td>\n",
       "      <td>25.29</td>\n",
       "      <td>4.71</td>\n",
       "      <td>Male</td>\n",
       "      <td>No</td>\n",
       "      <td>Sun</td>\n",
       "      <td>Dinner</td>\n",
       "      <td>4</td>\n",
       "    </tr>\n",
       "    <tr>\n",
       "      <th>6</th>\n",
       "      <td>6</td>\n",
       "      <td>8.77</td>\n",
       "      <td>2.00</td>\n",
       "      <td>Male</td>\n",
       "      <td>No</td>\n",
       "      <td>Sun</td>\n",
       "      <td>Dinner</td>\n",
       "      <td>2</td>\n",
       "    </tr>\n",
       "    <tr>\n",
       "      <th>7</th>\n",
       "      <td>7</td>\n",
       "      <td>26.88</td>\n",
       "      <td>3.12</td>\n",
       "      <td>Male</td>\n",
       "      <td>No</td>\n",
       "      <td>Sun</td>\n",
       "      <td>Dinner</td>\n",
       "      <td>4</td>\n",
       "    </tr>\n",
       "    <tr>\n",
       "      <th>8</th>\n",
       "      <td>8</td>\n",
       "      <td>15.04</td>\n",
       "      <td>1.96</td>\n",
       "      <td>Male</td>\n",
       "      <td>No</td>\n",
       "      <td>Sun</td>\n",
       "      <td>Dinner</td>\n",
       "      <td>2</td>\n",
       "    </tr>\n",
       "    <tr>\n",
       "      <th>9</th>\n",
       "      <td>9</td>\n",
       "      <td>14.78</td>\n",
       "      <td>3.23</td>\n",
       "      <td>Male</td>\n",
       "      <td>No</td>\n",
       "      <td>Sun</td>\n",
       "      <td>Dinner</td>\n",
       "      <td>2</td>\n",
       "    </tr>\n",
       "    <tr>\n",
       "      <th>10</th>\n",
       "      <td>10</td>\n",
       "      <td>10.27</td>\n",
       "      <td>1.71</td>\n",
       "      <td>Male</td>\n",
       "      <td>No</td>\n",
       "      <td>Sun</td>\n",
       "      <td>Dinner</td>\n",
       "      <td>2</td>\n",
       "    </tr>\n",
       "    <tr>\n",
       "      <th>11</th>\n",
       "      <td>11</td>\n",
       "      <td>35.26</td>\n",
       "      <td>5.00</td>\n",
       "      <td>Female</td>\n",
       "      <td>No</td>\n",
       "      <td>Sun</td>\n",
       "      <td>Dinner</td>\n",
       "      <td>4</td>\n",
       "    </tr>\n",
       "    <tr>\n",
       "      <th>12</th>\n",
       "      <td>12</td>\n",
       "      <td>15.42</td>\n",
       "      <td>1.57</td>\n",
       "      <td>Male</td>\n",
       "      <td>No</td>\n",
       "      <td>Sun</td>\n",
       "      <td>Dinner</td>\n",
       "      <td>2</td>\n",
       "    </tr>\n",
       "    <tr>\n",
       "      <th>13</th>\n",
       "      <td>13</td>\n",
       "      <td>18.43</td>\n",
       "      <td>3.00</td>\n",
       "      <td>Male</td>\n",
       "      <td>No</td>\n",
       "      <td>Sun</td>\n",
       "      <td>Dinner</td>\n",
       "      <td>4</td>\n",
       "    </tr>\n",
       "    <tr>\n",
       "      <th>14</th>\n",
       "      <td>14</td>\n",
       "      <td>14.83</td>\n",
       "      <td>3.02</td>\n",
       "      <td>Female</td>\n",
       "      <td>No</td>\n",
       "      <td>Sun</td>\n",
       "      <td>Dinner</td>\n",
       "      <td>2</td>\n",
       "    </tr>\n",
       "    <tr>\n",
       "      <th>15</th>\n",
       "      <td>15</td>\n",
       "      <td>21.58</td>\n",
       "      <td>3.92</td>\n",
       "      <td>Male</td>\n",
       "      <td>No</td>\n",
       "      <td>Sun</td>\n",
       "      <td>Dinner</td>\n",
       "      <td>2</td>\n",
       "    </tr>\n",
       "    <tr>\n",
       "      <th>16</th>\n",
       "      <td>16</td>\n",
       "      <td>10.33</td>\n",
       "      <td>1.67</td>\n",
       "      <td>Female</td>\n",
       "      <td>No</td>\n",
       "      <td>Sun</td>\n",
       "      <td>Dinner</td>\n",
       "      <td>3</td>\n",
       "    </tr>\n",
       "    <tr>\n",
       "      <th>17</th>\n",
       "      <td>17</td>\n",
       "      <td>16.29</td>\n",
       "      <td>3.71</td>\n",
       "      <td>Male</td>\n",
       "      <td>No</td>\n",
       "      <td>Sun</td>\n",
       "      <td>Dinner</td>\n",
       "      <td>3</td>\n",
       "    </tr>\n",
       "    <tr>\n",
       "      <th>18</th>\n",
       "      <td>18</td>\n",
       "      <td>16.97</td>\n",
       "      <td>3.50</td>\n",
       "      <td>Female</td>\n",
       "      <td>No</td>\n",
       "      <td>Sun</td>\n",
       "      <td>Dinner</td>\n",
       "      <td>3</td>\n",
       "    </tr>\n",
       "    <tr>\n",
       "      <th>19</th>\n",
       "      <td>19</td>\n",
       "      <td>20.65</td>\n",
       "      <td>3.35</td>\n",
       "      <td>Male</td>\n",
       "      <td>No</td>\n",
       "      <td>Sat</td>\n",
       "      <td>Dinner</td>\n",
       "      <td>3</td>\n",
       "    </tr>\n",
       "  </tbody>\n",
       "</table>\n",
       "</div>"
      ],
      "text/plain": [
       "    Unnamed: 0  total_bill   tip     sex smoker  day    time  size\n",
       "0            0       16.99  1.01  Female     No  Sun  Dinner     2\n",
       "1            1       10.34  1.66    Male     No  Sun  Dinner     3\n",
       "2            2       21.01  3.50    Male     No  Sun  Dinner     3\n",
       "3            3       23.68  3.31    Male     No  Sun  Dinner     2\n",
       "4            4       24.59  3.61  Female     No  Sun  Dinner     4\n",
       "5            5       25.29  4.71    Male     No  Sun  Dinner     4\n",
       "6            6        8.77  2.00    Male     No  Sun  Dinner     2\n",
       "7            7       26.88  3.12    Male     No  Sun  Dinner     4\n",
       "8            8       15.04  1.96    Male     No  Sun  Dinner     2\n",
       "9            9       14.78  3.23    Male     No  Sun  Dinner     2\n",
       "10          10       10.27  1.71    Male     No  Sun  Dinner     2\n",
       "11          11       35.26  5.00  Female     No  Sun  Dinner     4\n",
       "12          12       15.42  1.57    Male     No  Sun  Dinner     2\n",
       "13          13       18.43  3.00    Male     No  Sun  Dinner     4\n",
       "14          14       14.83  3.02  Female     No  Sun  Dinner     2\n",
       "15          15       21.58  3.92    Male     No  Sun  Dinner     2\n",
       "16          16       10.33  1.67  Female     No  Sun  Dinner     3\n",
       "17          17       16.29  3.71    Male     No  Sun  Dinner     3\n",
       "18          18       16.97  3.50  Female     No  Sun  Dinner     3\n",
       "19          19       20.65  3.35    Male     No  Sat  Dinner     3"
      ]
     },
     "execution_count": 2,
     "metadata": {},
     "output_type": "execute_result"
    }
   ],
   "source": [
    "df = pd.read_csv('tips.csv')\n",
    "df.head(20)"
   ]
  },
  {
   "cell_type": "markdown",
   "id": "56577ecd",
   "metadata": {},
   "source": [
    "## Câu 2"
   ]
  },
  {
   "cell_type": "code",
   "execution_count": 11,
   "id": "0b703649",
   "metadata": {},
   "outputs": [
    {
     "data": {
      "text/html": [
       "<div>\n",
       "<style scoped>\n",
       "    .dataframe tbody tr th:only-of-type {\n",
       "        vertical-align: middle;\n",
       "    }\n",
       "\n",
       "    .dataframe tbody tr th {\n",
       "        vertical-align: top;\n",
       "    }\n",
       "\n",
       "    .dataframe thead th {\n",
       "        text-align: right;\n",
       "    }\n",
       "</style>\n",
       "<table border=\"1\" class=\"dataframe\">\n",
       "  <thead>\n",
       "    <tr style=\"text-align: right;\">\n",
       "      <th></th>\n",
       "      <th>total_bill</th>\n",
       "      <th>tip</th>\n",
       "      <th>sex</th>\n",
       "      <th>smoker</th>\n",
       "      <th>day</th>\n",
       "      <th>time</th>\n",
       "      <th>size</th>\n",
       "    </tr>\n",
       "  </thead>\n",
       "  <tbody>\n",
       "    <tr>\n",
       "      <th>0</th>\n",
       "      <td>16.99</td>\n",
       "      <td>1.01</td>\n",
       "      <td>Female</td>\n",
       "      <td>No</td>\n",
       "      <td>Sun</td>\n",
       "      <td>Dinner</td>\n",
       "      <td>2</td>\n",
       "    </tr>\n",
       "    <tr>\n",
       "      <th>1</th>\n",
       "      <td>10.34</td>\n",
       "      <td>1.66</td>\n",
       "      <td>Male</td>\n",
       "      <td>No</td>\n",
       "      <td>Sun</td>\n",
       "      <td>Dinner</td>\n",
       "      <td>3</td>\n",
       "    </tr>\n",
       "    <tr>\n",
       "      <th>2</th>\n",
       "      <td>21.01</td>\n",
       "      <td>3.50</td>\n",
       "      <td>Male</td>\n",
       "      <td>No</td>\n",
       "      <td>Sun</td>\n",
       "      <td>Dinner</td>\n",
       "      <td>3</td>\n",
       "    </tr>\n",
       "    <tr>\n",
       "      <th>3</th>\n",
       "      <td>23.68</td>\n",
       "      <td>3.31</td>\n",
       "      <td>Male</td>\n",
       "      <td>No</td>\n",
       "      <td>Sun</td>\n",
       "      <td>Dinner</td>\n",
       "      <td>2</td>\n",
       "    </tr>\n",
       "    <tr>\n",
       "      <th>4</th>\n",
       "      <td>24.59</td>\n",
       "      <td>3.61</td>\n",
       "      <td>Female</td>\n",
       "      <td>No</td>\n",
       "      <td>Sun</td>\n",
       "      <td>Dinner</td>\n",
       "      <td>4</td>\n",
       "    </tr>\n",
       "  </tbody>\n",
       "</table>\n",
       "</div>"
      ],
      "text/plain": [
       "   total_bill   tip     sex smoker  day    time  size\n",
       "0       16.99  1.01  Female     No  Sun  Dinner     2\n",
       "1       10.34  1.66    Male     No  Sun  Dinner     3\n",
       "2       21.01  3.50    Male     No  Sun  Dinner     3\n",
       "3       23.68  3.31    Male     No  Sun  Dinner     2\n",
       "4       24.59  3.61  Female     No  Sun  Dinner     4"
      ]
     },
     "execution_count": 11,
     "metadata": {},
     "output_type": "execute_result"
    }
   ],
   "source": [
    "df.head()"
   ]
  },
  {
   "cell_type": "markdown",
   "id": "8c9e2a90",
   "metadata": {},
   "source": [
    "## Câu 3"
   ]
  },
  {
   "cell_type": "code",
   "execution_count": 17,
   "id": "46329bc8",
   "metadata": {},
   "outputs": [
    {
     "name": "stdout",
     "output_type": "stream",
     "text": [
      "Số dòng của dữ liệu:  244\n",
      "Số thuộc tính của dữ liệu:  7\n"
     ]
    }
   ],
   "source": [
    "print(\"Số dòng của dữ liệu: \",df.shape[0])\n",
    "print(\"Số thuộc tính của dữ liệu: \", df.shape[1])"
   ]
  },
  {
   "cell_type": "markdown",
   "id": "c2fa1c03",
   "metadata": {},
   "source": [
    "## Câu 4"
   ]
  },
  {
   "cell_type": "code",
   "execution_count": 19,
   "id": "1bc4eebd",
   "metadata": {},
   "outputs": [
    {
     "name": "stdout",
     "output_type": "stream",
     "text": [
      "Thuộc tính 'total_bill' là thuộc tính định lượng.\n",
      "Thuộc tính 'tip' là thuộc tính định lượng.\n",
      "Thuộc tính 'sex' là thuộc tính định tính.\n",
      "Thuộc tính 'smoker' là thuộc tính định tính.\n",
      "Thuộc tính 'day' là thuộc tính định tính.\n",
      "Thuộc tính 'time' là thuộc tính định tính.\n",
      "Thuộc tính 'size' là thuộc tính định tính.\n"
     ]
    }
   ],
   "source": [
    "# Lặp qua từng cột và kiểm tra kiểu dữ liệu\n",
    "for cot in df.columns:\n",
    "    kieu_du_lieu = df[cot].dtype\n",
    "    \n",
    "    # Kiểm tra kiểu dữ liệu và in ra thông báo tương ứng\n",
    "    if kieu_du_lieu == 'float64':\n",
    "        print(f\"Thuộc tính '{cot}' là thuộc tính định lượng.\")\n",
    "    else:\n",
    "        print(f\"Thuộc tính '{cot}' là thuộc tính định tính.\")"
   ]
  },
  {
   "cell_type": "markdown",
   "id": "7b8fc957",
   "metadata": {},
   "source": [
    "## Câu 5"
   ]
  },
  {
   "cell_type": "code",
   "execution_count": 27,
   "id": "5c1aecc2",
   "metadata": {},
   "outputs": [
    {
     "name": "stdout",
     "output_type": "stream",
     "text": [
      "Số lượng nam: 157\n",
      "Số nữ: 87\n",
      "Tỉ lệ: 1.80\n"
     ]
    }
   ],
   "source": [
    "nam = df['sex'].str.count('Male').sum()\n",
    "nu = df['sex'].str.count('Female').sum()\n",
    "ti_le = nam/nu;\n",
    "\n",
    "print(f\"Số lượng nam: {nam}\")\n",
    "print(f\"Số nữ: {nu}\")\n",
    "print(f\"Tỉ lệ: {ti_le:.2f}\")\n"
   ]
  },
  {
   "cell_type": "markdown",
   "id": "c4123871",
   "metadata": {},
   "source": [
    "## Câu 6"
   ]
  },
  {
   "cell_type": "code",
   "execution_count": 39,
   "id": "b7649f18",
   "metadata": {},
   "outputs": [
    {
     "name": "stdout",
     "output_type": "stream",
     "text": [
      "Số người hút thuốc: 93\n",
      "Tỉ lệ: 0.38\n"
     ]
    }
   ],
   "source": [
    "smoke = df['smoker'].str.count('Yes').sum()\n",
    "tong = df['smoker'].count().sum()\n",
    "ti_le = smoke / tong\n",
    "\n",
    "print(f\"Số người hút thuốc: {smoke}\")\n",
    "print(f\"Tỉ lệ: {ti_le:.2f}\")"
   ]
  },
  {
   "cell_type": "markdown",
   "id": "62197283",
   "metadata": {},
   "source": [
    "## Câu 7"
   ]
  },
  {
   "cell_type": "code",
   "execution_count": 62,
   "id": "a78f0ec7",
   "metadata": {},
   "outputs": [
    {
     "name": "stdout",
     "output_type": "stream",
     "text": [
      "Ngày Sat khách hay đến dùng bữa nhất.\n",
      "Tỉ lệ:  0.36\n"
     ]
    }
   ],
   "source": [
    "ngay_pho_bien = df['day'].value_counts().idxmax();\n",
    "so_ngay_nhieu_nhat = df['day'].value_counts().max();\n",
    "tong = df['day'].value_counts().sum();\n",
    "ti_le = so_ngay_nhieu_nhat / tong;\n",
    "\n",
    "\n",
    "print(f\"Ngày {ngay_pho_bien} khách hay đến dùng bữa nhất.\")\n",
    "print(f\"Tỉ lệ: {ti_le: .2f}\")"
   ]
  },
  {
   "cell_type": "markdown",
   "id": "a0147739",
   "metadata": {},
   "source": [
    "## Câu 8"
   ]
  },
  {
   "cell_type": "code",
   "execution_count": 65,
   "id": "7888b787",
   "metadata": {},
   "outputs": [
    {
     "name": "stdout",
     "output_type": "stream",
     "text": [
      "Nhà hàng phục vụ Dinner nhiều nhất.\n"
     ]
    }
   ],
   "source": [
    "bua_nhieu_nhat = df['time'].value_counts().idxmax();\n",
    "\n",
    "print(f\"Nhà hàng phục vụ {bua_nhieu_nhat} nhiều nhất.\")"
   ]
  },
  {
   "cell_type": "markdown",
   "id": "69e69232",
   "metadata": {},
   "source": [
    "## Câu 9"
   ]
  },
  {
   "cell_type": "code",
   "execution_count": 69,
   "id": "595843f7",
   "metadata": {},
   "outputs": [
    {
     "name": "stdout",
     "output_type": "stream",
     "text": [
      "Nhóm dùng bữa nhiều nhất là: 2\n"
     ]
    }
   ],
   "source": [
    "nhom_dung_bua_nhieu = df['size'].value_counts().idxmax()\n",
    "\n",
    "print(f\"Nhóm dùng bữa nhiều nhất là: {nhom_dung_bua_nhieu}\")"
   ]
  },
  {
   "cell_type": "markdown",
   "id": "25d3c503",
   "metadata": {},
   "source": [
    "## Câu 10"
   ]
  },
  {
   "cell_type": "code",
   "execution_count": 91,
   "id": "feddcd41",
   "metadata": {},
   "outputs": [
    {
     "name": "stdout",
     "output_type": "stream",
     "text": [
      "Trung bình 1 bữa ăn nhà hàng phục vụ  3 khách.\n"
     ]
    }
   ],
   "source": [
    "tong_bua_an = df['time'].value_counts().sum()\n",
    "tong_so_luong_khach = df['size'].sum()\n",
    "ti_le = tong_so_luong_khach / tong_bua_an\n",
    "\n",
    "# print(tong_bua_an)\n",
    "# print(tong_so_luong_khach)\n",
    "print(f\"Trung bình 1 bữa ăn nhà hàng phục vụ {ti_le: .0f} khách.\");"
   ]
  },
  {
   "cell_type": "markdown",
   "id": "f00a377c",
   "metadata": {},
   "source": [
    "## YẾU TỐ ẢNH HƯỞNG ĐẾN TIỀN TIP\n",
    "\n",
    "Trong phần này, chúng ta thử tìm hiểu về tiền tip tại nhà hàng và các yếu tố có thể ảnh hưởng đến nó"
   ]
  },
  {
   "cell_type": "markdown",
   "id": "ba58ca8d",
   "metadata": {},
   "source": [
    "1. Tỷ lệ nhận được tiền tip của nhà hàng là bao nhiêu?\n",
    "2. Tỷ lệ tiền tip trên tổng hóa đơn là bao nhiêu?\n",
    "3. Giữa nam và nữ ai tip nhiều tiền hơn, ai tip thường xuyên hơn?\n",
    "4. Giữa người hút thuốc và người không hút thuốc ai tip nhiều tiền hơn, ai tip thường xuyên hơn?\n",
    "5. Thống kê tổng số tiền tip nhận được theo ngày."
   ]
  },
  {
   "cell_type": "markdown",
   "id": "529330f3",
   "metadata": {},
   "source": [
    "## Câu 1"
   ]
  },
  {
   "cell_type": "code",
   "execution_count": 94,
   "id": "45a7b06f",
   "metadata": {},
   "outputs": [
    {
     "name": "stdout",
     "output_type": "stream",
     "text": [
      "731.5799999999999\n",
      "4827.77\n",
      "Tỉ lệ nhận tiền tiếp của nhà hàng là:  0.15\n"
     ]
    }
   ],
   "source": [
    "tong_tien_tip = df['tip'].sum();\n",
    "tong_bill = df['total_bill'].sum();\n",
    "ti_le = tong_tien_tip / tong_bill;\n",
    "\n",
    "print(tong_tien_tip)\n",
    "print(tong_bill)\n",
    "print(f\"Tỉ lệ nhận tiền tiếp của nhà hàng là: {ti_le: .2f}\")"
   ]
  },
  {
   "cell_type": "markdown",
   "id": "156e5703",
   "metadata": {},
   "source": [
    "## Câu 2"
   ]
  },
  {
   "cell_type": "code",
   "execution_count": 97,
   "id": "8110abd4",
   "metadata": {},
   "outputs": [
    {
     "name": "stdout",
     "output_type": "stream",
     "text": [
      "      tip  total_bill  tip_ratio\n",
      "0    1.01       16.99       0.06\n",
      "1    1.66       10.34       0.16\n",
      "2    3.50       21.01       0.17\n",
      "3    3.31       23.68       0.14\n",
      "4    3.61       24.59       0.15\n",
      "..    ...         ...        ...\n",
      "239  5.92       29.03       0.20\n",
      "240  2.00       27.18       0.07\n",
      "241  2.00       22.67       0.09\n",
      "242  1.75       17.82       0.10\n",
      "243  3.00       18.78       0.16\n",
      "\n",
      "[244 rows x 3 columns]\n"
     ]
    }
   ],
   "source": [
    "def tinh_ty_le_tip(row):\n",
    "     return row['tip'] / row['total_bill'];\n",
    "   \n",
    "df['tip_ratio'] = df.apply(tinh_ty_le_tip, axis=1).round(2)\n",
    "\n",
    "print(df[['tip', 'total_bill', 'tip_ratio']])"
   ]
  },
  {
   "cell_type": "markdown",
   "id": "e9db80f8",
   "metadata": {},
   "source": [
    "## Câu 3"
   ]
  },
  {
   "cell_type": "code",
   "execution_count": 113,
   "id": "7d92bf63",
   "metadata": {},
   "outputs": [
    {
     "name": "stdout",
     "output_type": "stream",
     "text": [
      "Nam tip nhiều hơn nữ.\n",
      "Nam tip thường xuyên hơn.\n"
     ]
    }
   ],
   "source": [
    "tong_tip_nam = df[df['sex'] == 'Male']['tip'].sum();\n",
    "tong_tip_nu = df[df['sex'] == 'Female']['tip'].sum();\n",
    "\n",
    "so_lan_nam_tip = df[df['sex'] == 'Male']['tip'].value_counts().sum()\n",
    "so_lan_nu_tip = df[df['sex'] == 'Female']['tip'].value_counts().sum()\n",
    "\n",
    "# print(so_lan_nam_tip)\n",
    "# print(so_lan_nu_tip)\n",
    "# print((so_lan_nu_tip + so_lan_nam_tip))\n",
    "\n",
    "if tong_tip_nam > tong_tip_nu:\n",
    "     print(\"Nam tip nhiều hơn nữ.\")\n",
    "elif tong_tip_nu > tong_tip_nam:\n",
    "     print(\"Nữ tip nhiều hơn nam.\")\n",
    "else:\n",
    "     print(\"Nam và nữ tip đều mức\")\n",
    "     \n",
    "     \n",
    "if so_lan_nu_tip > so_lan_nam_tip:\n",
    " print(\"Nữ tip thường xuyên hơn.\")\n",
    "elif so_lan_nam_tip > so_lan_nu_tip:\n",
    " print(\"Nam tip thường xuyên hơn.\")\n",
    "else:\n",
    " print(\"Nam và nữ cùng tip thường xuyên.\")"
   ]
  },
  {
   "cell_type": "markdown",
   "id": "c019792d",
   "metadata": {},
   "source": [
    "## Câu 4"
   ]
  },
  {
   "cell_type": "code",
   "execution_count": 114,
   "id": "f764842c",
   "metadata": {},
   "outputs": [
    {
     "name": "stdout",
     "output_type": "stream",
     "text": [
      "Người không hút thuốc tip nhiều hơn.\n",
      "Người không hút thuốc tip thường xuyên hơn.\n"
     ]
    }
   ],
   "source": [
    "tong_tip_smoke = df[df['smoker'] == 'Yes']['tip'].sum();\n",
    "tong_tip_no_smoke = df[df['smoker'] == 'No']['tip'].sum();\n",
    "\n",
    "so_lan_smoke_tip = df[df['smoker'] == 'Yes']['tip'].value_counts().sum()\n",
    "so_lan_no_smoke_tip = df[df['smoker'] == 'No']['tip'].value_counts().sum()\n",
    "\n",
    "if tong_tip_smoke > tong_tip_no_smoke:\n",
    "     print(\"Người có hút thuốc tip nhiều hơn.\")\n",
    "elif tong_tip_no_smoke > tong_tip_smoke:\n",
    "     print(\"Người không hút thuốc tip nhiều hơn.\")\n",
    "else:\n",
    "     print(\"Tip đều mức\")\n",
    "     \n",
    "     \n",
    "if so_lan_smoke_tip > so_lan_no_smoke_tip:\n",
    " print(\"Người hút thuốc tip thường xuyên hơn.\")\n",
    "elif so_lan_no_smoke_tip > so_lan_smoke_tip:\n",
    " print(\"Người không hút thuốc tip thường xuyên hơn.\")\n",
    "else:\n",
    " print(\"Cùng tip thường xuyên.\")"
   ]
  },
  {
   "cell_type": "markdown",
   "id": "8886590e",
   "metadata": {},
   "source": [
    "## Câu 5"
   ]
  },
  {
   "cell_type": "code",
   "execution_count": 123,
   "id": "1867b3b2",
   "metadata": {},
   "outputs": [
    {
     "data": {
      "text/plain": [
       "Sat     87\n",
       "Sun     76\n",
       "Thur    62\n",
       "Fri     19\n",
       "Name: day, dtype: int64"
      ]
     },
     "execution_count": 123,
     "metadata": {},
     "output_type": "execute_result"
    }
   ],
   "source": [
    "df['day'].value_counts()"
   ]
  },
  {
   "cell_type": "code",
   "execution_count": 127,
   "id": "44459725",
   "metadata": {},
   "outputs": [
    {
     "name": "stdout",
     "output_type": "stream",
     "text": [
      "Sat: 260.4\n",
      "Thur: 171.83\n",
      "Fri: 51.96\n",
      "Sun: 247.39\n"
     ]
    }
   ],
   "source": [
    "\n",
    "\n",
    "sat = df[df['day'] == 'Sat']['tip'].sum()\n",
    "thur = df[df['day'] == 'Thur']['tip'].sum().round(2)\n",
    "fri = df[df['day'] == 'Fri']['tip'].sum().round(2)\n",
    "sun = df[df['day'] == 'Sun']['tip'].sum().round(2)\n",
    "\n",
    "print(f\"Sat: {sat}\")\n",
    "print(f\"Thur: {thur}\")\n",
    "print(f\"Fri: {fri}\")\n",
    "print(f\"Sun: {sun}\")"
   ]
  },
  {
   "cell_type": "markdown",
   "id": "de38a759",
   "metadata": {},
   "source": [
    "# TRỰC QUAN DỮ LIỆU\n",
    "\n",
    "Để dễ hình dung, bạn hãy trực quan với một số câu hỏi sau đây:\n",
    "\n",
    "1. Vẽ đồ thị thể hiện tổng tiền tip theo ngày\n",
    "2. Vẽ đồ thị thể hiện tổng tiền tip theo bữa ăn (time)\n",
    "3. Vẽ đồ thị histogram của tổng hoá đơn\n",
    "4. Vẽ đồ thị boxplot của tổng hoá đơn\n",
    "5. Vẽ đồ thị để kiểm tra sự liên quan giữa tổng hoá đơn và tiền tip.\n",
    "6. So sánh số tiền mà khách hàng đã chi giữa các ngày trong tuần."
   ]
  },
  {
   "cell_type": "code",
   "execution_count": 128,
   "id": "f7983e07",
   "metadata": {},
   "outputs": [],
   "source": [
    "import matplotlib.pyplot as plt"
   ]
  },
  {
   "cell_type": "code",
   "execution_count": 140,
   "id": "0f78e40d",
   "metadata": {},
   "outputs": [
    {
     "data": {
      "image/png": "[encoded data removed]",
      "text/plain": [
       "<Figure size 300x300 with 1 Axes>"
      ]
     },
     "metadata": {},
     "output_type": "display_data"
    }
   ],
   "source": [
    "\n",
    "sat = df[df['day'] == 'Sat']['tip'].sum()\n",
    "thur = df[df['day'] == 'Thur']['tip'].sum().round(2)\n",
    "fri = df[df['day'] == 'Fri']['tip'].sum().round(2)\n",
    "sun = df[df['day'] == 'Sun']['tip'].sum().round(2)\n",
    "\n",
    "ngay = ['Sat', 'Thur', 'Fri', 'Sun']\n",
    "tong_tien_tip = [sat, thur, fri, sun]\n",
    "\n",
    "# Vẽ đồ thị\n",
    "plt.figure(figsize=(3, 3))\n",
    "plt.bar(ngay, tong_tien_tip, color=['blue', 'green', 'red', 'purple'])\n",
    "plt.title('Tổng tiền tip theo ngày')\n",
    "plt.xlabel('Ngày')\n",
    "plt.ylabel('Tổng tiền tip')\n",
    "plt.tight_layout()\n",
    "plt.show()"
   ]
  },
  {
   "cell_type": "code",
   "execution_count": 134,
   "id": "6c979492",
   "metadata": {},
   "outputs": [
    {
     "data": {
      "text/plain": [
       "Dinner    176\n",
       "Lunch      68\n",
       "Name: time, dtype: int64"
      ]
     },
     "execution_count": 134,
     "metadata": {},
     "output_type": "execute_result"
    }
   ],
   "source": [
    "df['time'].value_counts()"
   ]
  },
  {
   "cell_type": "code",
   "execution_count": 144,
   "id": "b112987a",
   "metadata": {},
   "outputs": [
    {
     "data": {
      "image/png": "[encoded data removed]",
      "text/plain": [
       "<Figure size 200x300 with 1 Axes>"
      ]
     },
     "metadata": {},
     "output_type": "display_data"
    }
   ],
   "source": [
    "dinner = df[df['time'] == 'Dinner']['tip'].sum()\n",
    "lunch = df[df['time'] == 'Lunch']['tip'].sum()\n",
    "\n",
    "eat = ['dinner', 'lunch']\n",
    "tong = [ dinner, lunch]\n",
    "\n",
    "plt.figure(figsize=(2, 3))\n",
    "plt.bar(eat, tong, color=['blue', 'green'])\n",
    "plt.title('Tổng tiền tip theo bữa ăn')\n",
    "plt.xlabel('Bữa ăn')\n",
    "plt.ylabel('Tổng tiền tip')\n",
    "plt.tight_layout()\n",
    "plt.show()"
   ]
  },
  {
   "cell_type": "code",
   "execution_count": 148,
   "id": "732b22e9",
   "metadata": {},
   "outputs": [
    {
     "data": {
      "image/png": "[encoded data removed]",
      "text/plain": [
       "<Figure size 800x500 with 1 Axes>"
      ]
     },
     "metadata": {},
     "output_type": "display_data"
    }
   ],
   "source": [
    "TongTienThanhToan = df['total_bill'].sum()\n",
    "\n",
    "# print(TongTienThanhToan)\n",
    "\n",
    "plt.figure(figsize=(8, 5))\n",
    "plt.hist(TongTienThanhToan, bins=10, color='blue', edgecolor='black')\n",
    "plt.title('Phân phối tổng hóa đơn')\n",
    "plt.xlabel('Tổng hóa đơn')\n",
    "plt.ylabel('Số lượng')\n",
    "plt.grid(axis='y', alpha=0.75)\n",
    "plt.tight_layout()\n",
    "plt.show()"
   ]
  },
  {
   "cell_type": "code",
   "execution_count": 156,
   "id": "37855b4f",
   "metadata": {},
   "outputs": [
    {
     "data": {
      "image/png": "[encoded data removed]",
      "text/plain": [
       "<Figure size 800x500 with 1 Axes>"
      ]
     },
     "metadata": {},
     "output_type": "display_data"
    }
   ],
   "source": [
    "df['TongTienThanhToan'] = df['total_bill'].sum()\n",
    "\n",
    "# print(df.TongTienThanhToan)\n",
    "# df.head()\n",
    "\n",
    "plt.figure(figsize=(8, 5))\n",
    "plt.boxplot(df['total_bill'], vert=False, patch_artist=True)\n",
    "plt.title('Boxplot của tổng hóa đơn')\n",
    "plt.xlabel('Tổng hóa đơn')\n",
    "plt.tight_layout()\n",
    "plt.show()"
   ]
  },
  {
   "cell_type": "code",
   "execution_count": 159,
   "id": "268ba885",
   "metadata": {},
   "outputs": [
    {
     "data": {
      "image/png": "[encoded data removed]",
      "text/plain": [
       "<Figure size 800x600 with 1 Axes>"
      ]
     },
     "metadata": {},
     "output_type": "display_data"
    }
   ],
   "source": [
    "plt.figure(figsize=(8, 6))\n",
    "plt.scatter(df['total_bill'], df['tip'], alpha=0.5)\n",
    "plt.title('Scatter Plot: Tổng hóa đơn vs Tiền tip')\n",
    "plt.xlabel('Tổng hóa đơn')\n",
    "plt.ylabel('Tiền tip')\n",
    "plt.grid(True)\n",
    "plt.tight_layout()\n",
    "plt.show()"
   ]
  },
  {
   "cell_type": "code",
   "execution_count": 161,
   "id": "7cc6d630",
   "metadata": {},
   "outputs": [
    {
     "data": {
      "image/png": "[encoded data removed]",
      "text/plain": [
       "<Figure size 1000x600 with 1 Axes>"
      ]
     },
     "metadata": {},
     "output_type": "display_data"
    }
   ],
   "source": [
    "TongTienThanhToan = df['total_bill'].sum()\n",
    "\n",
    "tong_tien_trung_binh = df.groupby('day')['TongTienThanhToan'].mean()\n",
    "\n",
    "ngay_trong_tuan = ['Mon', 'Tue', 'Wed', 'Thur', 'Fri', 'Sat', 'Sun']\n",
    "tong_tien_trung_binh = tong_tien_trung_binh.reindex(ngay_trong_tuan)\n",
    "\n",
    "# Vẽ biểu đồ cột\n",
    "plt.figure(figsize=(10, 6))\n",
    "tong_tien_trung_binh.plot(kind='bar', color='blue')\n",
    "plt.title('Tổng tiền chi trung bình theo từng ngày trong tuần')\n",
    "plt.xlabel('Ngày trong tuần')\n",
    "plt.ylabel('Tổng tiền trung bình')\n",
    "plt.tight_layout()\n",
    "plt.show()"
   ]
  },
  {
   "cell_type": "markdown",
   "id": "d5c79bea",
   "metadata": {},
   "source": [
    "## Với Matplotlib\n",
    "\n",
    "Bạn hãy trực quan với thư viện matplotlib"
   ]
  },
  {
   "cell_type": "markdown",
   "id": "816cf7bf",
   "metadata": {},
   "source": [
    "## Với Seaborn\n",
    "\n",
    "Bạn hãy tìm hiểu và trực quan với thư viện seaborn"
   ]
  },
  {
   "cell_type": "code",
   "execution_count": null,
   "id": "eb35f63a",
   "metadata": {},
   "outputs": [],
   "source": []
  }
 ],
 "metadata": {
  "kernelspec": {
   "display_name": "Python 3 (ipykernel)",
   "language": "python",
   "name": "python3"
  },
  "language_info": {
   "codemirror_mode": {
    "name": "ipython",
    "version": 3
   },
   "file_extension": ".py",
   "mimetype": "text/x-python",
   "name": "python",
   "nbconvert_exporter": "python",
   "pygments_lexer": "ipython3",
   "version": "3.11.4"
  }
 },
 "nbformat": 4,
 "nbformat_minor": 5
}
