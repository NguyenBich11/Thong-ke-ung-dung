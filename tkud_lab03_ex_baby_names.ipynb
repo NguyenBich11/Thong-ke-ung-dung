{
  "cells": [
    {
      "cell_type": "markdown",
      "metadata": {
        "id": "6ESIsBhZ-MW-"
      },
      "source": [
        "# Lab 3 - Bài tập (US Baby Name)"
      ]
    },
    {
      "cell_type": "markdown",
      "metadata": {
        "id": "fB_x9u_U-MXB"
      },
      "source": [
        "## GIỚI THIỆU\n",
        "Dữ Liệu `US_BaBy_Names.csv` chứa thông tin của các em bé sinh từ 2004 - 2014 tại Mỹ. Dựa vào tập dữ liệu trên, bạn hãy thực hiện các bài tập sau:"
      ]
    },
    {
      "cell_type": "code",
      "source": [
        "import pandas as pd\n",
        "import numpy as np"
      ],
      "metadata": {
        "id": "jJqQbKgo_0Ws"
      },
      "execution_count": 1,
      "outputs": []
    },
    {
      "cell_type": "markdown",
      "metadata": {
        "id": "kiaFNvpE-MXC"
      },
      "source": [
        "## TÌM HIỂU DỮ LIỆU"
      ]
    },
    {
      "cell_type": "markdown",
      "metadata": {
        "id": "lskpUZVJ-MXC"
      },
      "source": [
        "### 01. Đọc dữ liệu"
      ]
    },
    {
      "cell_type": "code",
      "source": [
        "grades = pd.read_csv('sample_grades.csv');"
      ],
      "metadata": {
        "id": "bAo0D1o5_vDH"
      },
      "execution_count": 4,
      "outputs": []
    },
    {
      "cell_type": "markdown",
      "metadata": {
        "id": "9FW9LhCy-MXC"
      },
      "source": [
        "### 02. Hiển thị 10 dòng dữ liệu bất kỳ"
      ]
    },
    {
      "cell_type": "code",
      "source": [
        "grades.head(10)"
      ],
      "metadata": {
        "colab": {
          "base_uri": "https://localhost:8080/",
          "height": 363
        },
        "id": "dQ9LzuMYB0Yx",
        "outputId": "7c1967d9-8c4f-4f72-c6b2-be04d87ae320"
      },
      "execution_count": 5,
      "outputs": [
        {
          "output_type": "execute_result",
          "data": {
            "text/plain": [
              "   Student ID  Gender  Project Phase 1  Project Phase 2  Mid-Semester Test  \\\n",
              "0         101    Male            18.25             15.5                 94   \n",
              "1         102  Female            17.75             30.0                 79   \n",
              "2         103    Male             0.00              0.0                 78   \n",
              "3         104    Male            20.00             25.0                 69   \n",
              "4         105    Male            18.75             30.0                 96   \n",
              "5         106    Male            17.00             23.5                 80   \n",
              "6         107     NaN            19.75             19.5                 82   \n",
              "7         108    Male            20.00             28.0                 95   \n",
              "8         109       M            18.00             23.0                 50   \n",
              "9         110  Female            20.00             30.0                 92   \n",
              "\n",
              "   Final Exam Grade  \n",
              "0        61.0    PA  \n",
              "1        62.0    PA  \n",
              "2        15.0    NN  \n",
              "3        65.0    PA  \n",
              "4        51.0    PA  \n",
              "5        59.0    PA  \n",
              "6        76.0    PA  \n",
              "7        44.0    PA  \n",
              "8        33.0    NN  \n",
              "9        63.0    PA  "
            ],
            "text/html": [
              "\n",
              "  <div id=\"df-bd926ba9-f11a-46ea-8c4f-233f9d23382f\" class=\"colab-df-container\">\n",
              "    <div>\n",
              "<style scoped>\n",
              "    .dataframe tbody tr th:only-of-type {\n",
              "        vertical-align: middle;\n",
              "    }\n",
              "\n",
              "    .dataframe tbody tr th {\n",
              "        vertical-align: top;\n",
              "    }\n",
              "\n",
              "    .dataframe thead th {\n",
              "        text-align: right;\n",
              "    }\n",
              "</style>\n",
              "<table border=\"1\" class=\"dataframe\">\n",
              "  <thead>\n",
              "    <tr style=\"text-align: right;\">\n",
              "      <th></th>\n",
              "      <th>Student ID</th>\n",
              "      <th>Gender</th>\n",
              "      <th>Project Phase 1</th>\n",
              "      <th>Project Phase 2</th>\n",
              "      <th>Mid-Semester Test</th>\n",
              "      <th>Final Exam</th>\n",
              "      <th>Grade</th>\n",
              "    </tr>\n",
              "  </thead>\n",
              "  <tbody>\n",
              "    <tr>\n",
              "      <th>0</th>\n",
              "      <td>101</td>\n",
              "      <td>Male</td>\n",
              "      <td>18.25</td>\n",
              "      <td>15.5</td>\n",
              "      <td>94</td>\n",
              "      <td>61.0</td>\n",
              "      <td>PA</td>\n",
              "    </tr>\n",
              "    <tr>\n",
              "      <th>1</th>\n",
              "      <td>102</td>\n",
              "      <td>Female</td>\n",
              "      <td>17.75</td>\n",
              "      <td>30.0</td>\n",
              "      <td>79</td>\n",
              "      <td>62.0</td>\n",
              "      <td>PA</td>\n",
              "    </tr>\n",
              "    <tr>\n",
              "      <th>2</th>\n",
              "      <td>103</td>\n",
              "      <td>Male</td>\n",
              "      <td>0.00</td>\n",
              "      <td>0.0</td>\n",
              "      <td>78</td>\n",
              "      <td>15.0</td>\n",
              "      <td>NN</td>\n",
              "    </tr>\n",
              "    <tr>\n",
              "      <th>3</th>\n",
              "      <td>104</td>\n",
              "      <td>Male</td>\n",
              "      <td>20.00</td>\n",
              "      <td>25.0</td>\n",
              "      <td>69</td>\n",
              "      <td>65.0</td>\n",
              "      <td>PA</td>\n",
              "    </tr>\n",
              "    <tr>\n",
              "      <th>4</th>\n",
              "      <td>105</td>\n",
              "      <td>Male</td>\n",
              "      <td>18.75</td>\n",
              "      <td>30.0</td>\n",
              "      <td>96</td>\n",
              "      <td>51.0</td>\n",
              "      <td>PA</td>\n",
              "    </tr>\n",
              "    <tr>\n",
              "      <th>5</th>\n",
              "      <td>106</td>\n",
              "      <td>Male</td>\n",
              "      <td>17.00</td>\n",
              "      <td>23.5</td>\n",
              "      <td>80</td>\n",
              "      <td>59.0</td>\n",
              "      <td>PA</td>\n",
              "    </tr>\n",
              "    <tr>\n",
              "      <th>6</th>\n",
              "      <td>107</td>\n",
              "      <td>NaN</td>\n",
              "      <td>19.75</td>\n",
              "      <td>19.5</td>\n",
              "      <td>82</td>\n",
              "      <td>76.0</td>\n",
              "      <td>PA</td>\n",
              "    </tr>\n",
              "    <tr>\n",
              "      <th>7</th>\n",
              "      <td>108</td>\n",
              "      <td>Male</td>\n",
              "      <td>20.00</td>\n",
              "      <td>28.0</td>\n",
              "      <td>95</td>\n",
              "      <td>44.0</td>\n",
              "      <td>PA</td>\n",
              "    </tr>\n",
              "    <tr>\n",
              "      <th>8</th>\n",
              "      <td>109</td>\n",
              "      <td>M</td>\n",
              "      <td>18.00</td>\n",
              "      <td>23.0</td>\n",
              "      <td>50</td>\n",
              "      <td>33.0</td>\n",
              "      <td>NN</td>\n",
              "    </tr>\n",
              "    <tr>\n",
              "      <th>9</th>\n",
              "      <td>110</td>\n",
              "      <td>Female</td>\n",
              "      <td>20.00</td>\n",
              "      <td>30.0</td>\n",
              "      <td>92</td>\n",
              "      <td>63.0</td>\n",
              "      <td>PA</td>\n",
              "    </tr>\n",
              "  </tbody>\n",
              "</table>\n",
              "</div>\n",
              "    <div class=\"colab-df-buttons\">\n",
              "\n",
              "  <div class=\"colab-df-container\">\n",
              "    <button class=\"colab-df-convert\" onclick=\"convertToInteractive('df-bd926ba9-f11a-46ea-8c4f-233f9d23382f')\"\n",
              "            title=\"Convert this dataframe to an interactive table.\"\n",
              "            style=\"display:none;\">\n",
              "\n",
              "  <svg xmlns=\"http://www.w3.org/2000/svg\" height=\"24px\" viewBox=\"0 -960 960 960\">\n",
              "    <path d=\"M120-120v-720h720v720H120Zm60-500h600v-160H180v160Zm220 220h160v-160H400v160Zm0 220h160v-160H400v160ZM180-400h160v-160H180v160Zm440 0h160v-160H620v160ZM180-180h160v-160H180v160Zm440 0h160v-160H620v160Z\"/>\n",
              "  </svg>\n",
              "    </button>\n",
              "\n",
              "  <style>\n",
              "    .colab-df-container {\n",
              "      display:flex;\n",
              "      gap: 12px;\n",
              "    }\n",
              "\n",
              "    .colab-df-convert {\n",
              "      background-color: #E8F0FE;\n",
              "      border: none;\n",
              "      border-radius: 50%;\n",
              "      cursor: pointer;\n",
              "      display: none;\n",
              "      fill: #1967D2;\n",
              "      height: 32px;\n",
              "      padding: 0 0 0 0;\n",
              "      width: 32px;\n",
              "    }\n",
              "\n",
              "    .colab-df-convert:hover {\n",
              "      background-color: #E2EBFA;\n",
              "      box-shadow: 0px 1px 2px rgba(60, 64, 67, 0.3), 0px 1px 3px 1px rgba(60, 64, 67, 0.15);\n",
              "      fill: #174EA6;\n",
              "    }\n",
              "\n",
              "    .colab-df-buttons div {\n",
              "      margin-bottom: 4px;\n",
              "    }\n",
              "\n",
              "    [theme=dark] .colab-df-convert {\n",
              "      background-color: #3B4455;\n",
              "      fill: #D2E3FC;\n",
              "    }\n",
              "\n",
              "    [theme=dark] .colab-df-convert:hover {\n",
              "      background-color: #434B5C;\n",
              "      box-shadow: 0px 1px 3px 1px rgba(0, 0, 0, 0.15);\n",
              "      filter: drop-shadow(0px 1px 2px rgba(0, 0, 0, 0.3));\n",
              "      fill: #FFFFFF;\n",
              "    }\n",
              "  </style>\n",
              "\n",
              "    <script>\n",
              "      const buttonEl =\n",
              "        document.querySelector('#df-bd926ba9-f11a-46ea-8c4f-233f9d23382f button.colab-df-convert');\n",
              "      buttonEl.style.display =\n",
              "        google.colab.kernel.accessAllowed ? 'block' : 'none';\n",
              "\n",
              "      async function convertToInteractive(key) {\n",
              "        const element = document.querySelector('#df-bd926ba9-f11a-46ea-8c4f-233f9d23382f');\n",
              "        const dataTable =\n",
              "          await google.colab.kernel.invokeFunction('convertToInteractive',\n",
              "                                                    [key], {});\n",
              "        if (!dataTable) return;\n",
              "\n",
              "        const docLinkHtml = 'Like what you see? Visit the ' +\n",
              "          '<a target=\"_blank\" href=https://colab.research.google.com/notebooks/data_table.ipynb>data table notebook</a>'\n",
              "          + ' to learn more about interactive tables.';\n",
              "        element.innerHTML = '';\n",
              "        dataTable['output_type'] = 'display_data';\n",
              "        await google.colab.output.renderOutput(dataTable, element);\n",
              "        const docLink = document.createElement('div');\n",
              "        docLink.innerHTML = docLinkHtml;\n",
              "        element.appendChild(docLink);\n",
              "      }\n",
              "    </script>\n",
              "  </div>\n",
              "\n",
              "\n",
              "<div id=\"df-4ec8f409-5cc1-4768-b50a-262d1beb948e\">\n",
              "  <button class=\"colab-df-quickchart\" onclick=\"quickchart('df-4ec8f409-5cc1-4768-b50a-262d1beb948e')\"\n",
              "            title=\"Suggest charts.\"\n",
              "            style=\"display:none;\">\n",
              "\n",
              "<svg xmlns=\"http://www.w3.org/2000/svg\" height=\"24px\"viewBox=\"0 0 24 24\"\n",
              "     width=\"24px\">\n",
              "    <g>\n",
              "        <path d=\"M19 3H5c-1.1 0-2 .9-2 2v14c0 1.1.9 2 2 2h14c1.1 0 2-.9 2-2V5c0-1.1-.9-2-2-2zM9 17H7v-7h2v7zm4 0h-2V7h2v10zm4 0h-2v-4h2v4z\"/>\n",
              "    </g>\n",
              "</svg>\n",
              "  </button>\n",
              "\n",
              "<style>\n",
              "  .colab-df-quickchart {\n",
              "      --bg-color: #E8F0FE;\n",
              "      --fill-color: #1967D2;\n",
              "      --hover-bg-color: #E2EBFA;\n",
              "      --hover-fill-color: #174EA6;\n",
              "      --disabled-fill-color: #AAA;\n",
              "      --disabled-bg-color: #DDD;\n",
              "  }\n",
              "\n",
              "  [theme=dark] .colab-df-quickchart {\n",
              "      --bg-color: #3B4455;\n",
              "      --fill-color: #D2E3FC;\n",
              "      --hover-bg-color: #434B5C;\n",
              "      --hover-fill-color: #FFFFFF;\n",
              "      --disabled-bg-color: #3B4455;\n",
              "      --disabled-fill-color: #666;\n",
              "  }\n",
              "\n",
              "  .colab-df-quickchart {\n",
              "    background-color: var(--bg-color);\n",
              "    border: none;\n",
              "    border-radius: 50%;\n",
              "    cursor: pointer;\n",
              "    display: none;\n",
              "    fill: var(--fill-color);\n",
              "    height: 32px;\n",
              "    padding: 0;\n",
              "    width: 32px;\n",
              "  }\n",
              "\n",
              "  .colab-df-quickchart:hover {\n",
              "    background-color: var(--hover-bg-color);\n",
              "    box-shadow: 0 1px 2px rgba(60, 64, 67, 0.3), 0 1px 3px 1px rgba(60, 64, 67, 0.15);\n",
              "    fill: var(--button-hover-fill-color);\n",
              "  }\n",
              "\n",
              "  .colab-df-quickchart-complete:disabled,\n",
              "  .colab-df-quickchart-complete:disabled:hover {\n",
              "    background-color: var(--disabled-bg-color);\n",
              "    fill: var(--disabled-fill-color);\n",
              "    box-shadow: none;\n",
              "  }\n",
              "\n",
              "  .colab-df-spinner {\n",
              "    border: 2px solid var(--fill-color);\n",
              "    border-color: transparent;\n",
              "    border-bottom-color: var(--fill-color);\n",
              "    animation:\n",
              "      spin 1s steps(1) infinite;\n",
              "  }\n",
              "\n",
              "  @keyframes spin {\n",
              "    0% {\n",
              "      border-color: transparent;\n",
              "      border-bottom-color: var(--fill-color);\n",
              "      border-left-color: var(--fill-color);\n",
              "    }\n",
              "    20% {\n",
              "      border-color: transparent;\n",
              "      border-left-color: var(--fill-color);\n",
              "      border-top-color: var(--fill-color);\n",
              "    }\n",
              "    30% {\n",
              "      border-color: transparent;\n",
              "      border-left-color: var(--fill-color);\n",
              "      border-top-color: var(--fill-color);\n",
              "      border-right-color: var(--fill-color);\n",
              "    }\n",
              "    40% {\n",
              "      border-color: transparent;\n",
              "      border-right-color: var(--fill-color);\n",
              "      border-top-color: var(--fill-color);\n",
              "    }\n",
              "    60% {\n",
              "      border-color: transparent;\n",
              "      border-right-color: var(--fill-color);\n",
              "    }\n",
              "    80% {\n",
              "      border-color: transparent;\n",
              "      border-right-color: var(--fill-color);\n",
              "      border-bottom-color: var(--fill-color);\n",
              "    }\n",
              "    90% {\n",
              "      border-color: transparent;\n",
              "      border-bottom-color: var(--fill-color);\n",
              "    }\n",
              "  }\n",
              "</style>\n",
              "\n",
              "  <script>\n",
              "    async function quickchart(key) {\n",
              "      const quickchartButtonEl =\n",
              "        document.querySelector('#' + key + ' button');\n",
              "      quickchartButtonEl.disabled = true;  // To prevent multiple clicks.\n",
              "      quickchartButtonEl.classList.add('colab-df-spinner');\n",
              "      try {\n",
              "        const charts = await google.colab.kernel.invokeFunction(\n",
              "            'suggestCharts', [key], {});\n",
              "      } catch (error) {\n",
              "        console.error('Error during call to suggestCharts:', error);\n",
              "      }\n",
              "      quickchartButtonEl.classList.remove('colab-df-spinner');\n",
              "      quickchartButtonEl.classList.add('colab-df-quickchart-complete');\n",
              "    }\n",
              "    (() => {\n",
              "      let quickchartButtonEl =\n",
              "        document.querySelector('#df-4ec8f409-5cc1-4768-b50a-262d1beb948e button');\n",
              "      quickchartButtonEl.style.display =\n",
              "        google.colab.kernel.accessAllowed ? 'block' : 'none';\n",
              "    })();\n",
              "  </script>\n",
              "</div>\n",
              "    </div>\n",
              "  </div>\n"
            ]
          },
          "metadata": {},
          "execution_count": 5
        }
      ]
    },
    {
      "cell_type": "markdown",
      "metadata": {
        "id": "EPNk9Igy-MXC"
      },
      "source": [
        "### 03. Cho biết dữ liệu có bao nhiêu trường hợp, bao nhiêu biến. Với mỗi biến hãy cho biết kiểu dữ liệu của biến đó, phân loại xem biến thuộc loại gì? (định tính, định lượng)"
      ]
    },
    {
      "cell_type": "code",
      "source": [
        "grades.info()"
      ],
      "metadata": {
        "colab": {
          "base_uri": "https://localhost:8080/"
        },
        "id": "9kuW8UNECED1",
        "outputId": "ca7e0572-9507-411f-8938-42b4f0388213"
      },
      "execution_count": 6,
      "outputs": [
        {
          "output_type": "stream",
          "name": "stdout",
          "text": [
            "<class 'pandas.core.frame.DataFrame'>\n",
            "RangeIndex: 40 entries, 0 to 39\n",
            "Data columns (total 7 columns):\n",
            " #   Column             Non-Null Count  Dtype  \n",
            "---  ------             --------------  -----  \n",
            " 0   Student ID         40 non-null     int64  \n",
            " 1   Gender             37 non-null     object \n",
            " 2   Project Phase 1    40 non-null     float64\n",
            " 3   Project Phase 2    37 non-null     float64\n",
            " 4   Mid-Semester Test  40 non-null     int64  \n",
            " 5   Final Exam         36 non-null     float64\n",
            " 6   Grade              40 non-null     object \n",
            "dtypes: float64(3), int64(2), object(2)\n",
            "memory usage: 2.3+ KB\n"
          ]
        }
      ]
    },
    {
      "cell_type": "code",
      "source": [
        "## Student Id: là định lượng\n",
        "## Gender: là định tính\n",
        "## Project phase 1: là định định lượng\n",
        "## Project phase 2: là định định lượng\n",
        "## Mid-Semester Test: là định định lượng\n",
        "## Final Exam: là định định lượng\n",
        "## Grade: là định tính"
      ],
      "metadata": {
        "id": "-DeRLJKLDJFD"
      },
      "execution_count": 7,
      "outputs": []
    },
    {
      "cell_type": "markdown",
      "metadata": {
        "id": "sk_F0pix-MXD"
      },
      "source": [
        "### 04. Xóa 2 cột 'Unnamed: 0' and 'Id'"
      ]
    },
    {
      "cell_type": "markdown",
      "metadata": {
        "id": "XjafXgMS-MXD"
      },
      "source": [
        "### 05. Cho biết số lượng bé trai, bé gái?"
      ]
    },
    {
      "cell_type": "markdown",
      "metadata": {
        "id": "AK2oWOMR-MXD"
      },
      "source": [
        "### 06. Trong bộ dữ liệu có bao nhiêu tên khác nhau?"
      ]
    },
    {
      "cell_type": "markdown",
      "metadata": {
        "id": "EPbCE9_1-MXD"
      },
      "source": [
        "### 07. Tên nào xuất hiện ít nhất?"
      ]
    },
    {
      "cell_type": "markdown",
      "metadata": {
        "id": "XjPHpRxA-MXD"
      },
      "source": [
        "### 08. Top 10 tên được sử dụng nhiều nhất?"
      ]
    },
    {
      "cell_type": "markdown",
      "metadata": {
        "id": "siWi4AWo-MXE"
      },
      "source": [
        "## TRỰC QUAN DỮ LIỆU"
      ]
    },
    {
      "cell_type": "markdown",
      "metadata": {
        "id": "EgzdFk4X-MXE"
      },
      "source": [
        "### 09. Vẽ đồ thị top 10 tên xuất hiện nhiều nhất năm 2014"
      ]
    },
    {
      "cell_type": "markdown",
      "metadata": {
        "id": "GootVQD3-MXE"
      },
      "source": [
        "### 10. Vẽ đồ thị thể hiện tỷ lệ nam nữ qua các năm 2004-2014"
      ]
    },
    {
      "cell_type": "markdown",
      "metadata": {
        "id": "8pR0-2tl-MXE"
      },
      "source": [
        "---"
      ]
    }
  ],
  "metadata": {
    "kernelspec": {
      "display_name": "Python 3",
      "language": "python",
      "name": "python3"
    },
    "language_info": {
      "codemirror_mode": {
        "name": "ipython",
        "version": 3
      },
      "file_extension": ".py",
      "mimetype": "text/x-python",
      "name": "python",
      "nbconvert_exporter": "python",
      "pygments_lexer": "ipython3",
      "version": "3.8.5"
    },
    "colab": {
      "provenance": []
    }
  },
  "nbformat": 4,
  "nbformat_minor": 0
}