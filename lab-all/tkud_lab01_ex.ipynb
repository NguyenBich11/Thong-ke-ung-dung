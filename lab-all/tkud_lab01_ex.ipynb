{
  "nbformat": 4,
  "nbformat_minor": 0,
  "metadata": {
    "colab": {
      "provenance": []
    },
    "kernelspec": {
      "name": "python3",
      "display_name": "Python 3"
    },
    "language_info": {
      "name": "python"
    }
  },
  "cells": [
    {
      "cell_type": "markdown",
      "source": [
        "# Lab 01 - Bài tập"
      ],
      "metadata": {
        "id": "Cj3g7_Xjv0cQ"
      }
    },
    {
      "cell_type": "markdown",
      "source": [
        "## PYTHON\n",
        "\n",
        "1. Viết chương trình nhập vào số nguyên n (n>0). In ra các số nguyên tố từ 1..100\n"
      ],
      "metadata": {
        "id": "uHya_O8Nv9Bg"
      }
    },
    {
      "cell_type": "code",
      "source": [],
      "metadata": {
        "id": "AnQZ06Hxxwlo"
      },
      "execution_count": null,
      "outputs": []
    },
    {
      "cell_type": "markdown",
      "source": [
        "2. Viết chương trình nhập vào số nguyên n có 3 chữ số. Tính tổng các chữ số của n"
      ],
      "metadata": {
        "id": "XpmGHRLRxx34"
      }
    },
    {
      "cell_type": "code",
      "execution_count": null,
      "metadata": {
        "id": "AXOFJ9Iwvtvh"
      },
      "outputs": [],
      "source": []
    },
    {
      "cell_type": "markdown",
      "source": [
        "3. Viết chương trình nhập vào một dãy các số nguyên được cách nhau bởi khoảng trắng (VD: 32 8 4 6 9...) lưu vào python ở dạng mảng. Thực hiện\n",
        "\n",
        "- Xuất mảng\n",
        "- Tính tổng các phần tử của mảng\n",
        "- Tìm số lớn nhất\n",
        "- Tìm số bé nhất\n",
        "- Sắp xếp mảng theo thứ tự giảm dần\n",
        "- In ra các số chẵn trong mảng"
      ],
      "metadata": {
        "id": "oba6gvmwyFrZ"
      }
    },
    {
      "cell_type": "code",
      "source": [],
      "metadata": {
        "id": "9XBwANmGyFyY"
      },
      "execution_count": null,
      "outputs": []
    },
    {
      "cell_type": "markdown",
      "source": [
        "4. Viết chương trình yêu cầu người dùng nhập họ tên. Hiển thị tên người dùng sau khi đã chuẩn hóa. Biết rằng tên đã chuẩn hóa là:\n",
        "- Ký tự đầu viết hoa\n",
        "- Không có khoảng trắng thừa\n",
        "- Không có ký tự đặc biệt"
      ],
      "metadata": {
        "id": "hgGOt_Cxyulx"
      }
    },
    {
      "cell_type": "code",
      "source": [],
      "metadata": {
        "id": "duR4BF8Dyu_w"
      },
      "execution_count": null,
      "outputs": []
    },
    {
      "cell_type": "markdown",
      "source": [
        "5. Viết chương trình nhập vào một số nguyên dương (n>0). Cho biết n có phải là số đối xứng hay không? Biết số đối xứng là số viết xuôi hay viết ngược đều như nhau"
      ],
      "metadata": {
        "id": "W5KucasA0NSA"
      }
    },
    {
      "cell_type": "code",
      "source": [],
      "metadata": {
        "id": "FTH5V3je0YPg"
      },
      "execution_count": null,
      "outputs": []
    },
    {
      "cell_type": "markdown",
      "source": [
        "## NUMPY\n",
        "\n",
        "Bạn hãy phát sinh ngẫu nhiên mảng ndarray có tên `arr` gồm 100 phần tử số nguyên có giá trị từ 0..1000. Thực hiện các thao tác sau:"
      ],
      "metadata": {
        "id": "MKtdKtm6v91Y"
      }
    },
    {
      "cell_type": "markdown",
      "source": [
        "6. Hiển thị các phần tử thỏa yêu cầu dưới đây\n",
        "\n",
        "- 10 phần tử đầu tiên\n",
        "- 5 phần tử cuối cùng\n",
        "- Các phần tử thỏa mãn điều kiện chia hết cho 5 và lớn hơn 100"
      ],
      "metadata": {
        "id": "QEldaGw70sGI"
      }
    },
    {
      "cell_type": "code",
      "source": [],
      "metadata": {
        "id": "2M-5p9mqxDxJ"
      },
      "execution_count": null,
      "outputs": []
    },
    {
      "cell_type": "markdown",
      "source": [
        "7. Cho biết mảng trên có bao nhiêu phần tử có giá trị nhỏ hơn 100. Hiển thị các phần tử đó"
      ],
      "metadata": {
        "id": "JGdigfCp0dgH"
      }
    },
    {
      "cell_type": "code",
      "source": [],
      "metadata": {
        "id": "pZzzctoo0cOn"
      },
      "execution_count": null,
      "outputs": []
    },
    {
      "cell_type": "markdown",
      "source": [
        "8. Thực hiện thống kê:\n",
        "\n",
        "- Tính tổng mảng\n",
        "- Tìm giá trị trung bình\n",
        "- Tìm giá trị trung vị\n",
        "- Tìm Q1, Q2, Q3\n",
        "- Tìm phân vị 20 (percentile 20)"
      ],
      "metadata": {
        "id": "QhTukTC70ZgP"
      }
    },
    {
      "cell_type": "code",
      "source": [],
      "metadata": {
        "id": "yIPKE0-20sGI"
      },
      "execution_count": null,
      "outputs": []
    },
    {
      "cell_type": "markdown",
      "source": [
        "9. Thực hiện việc chọn ngẫu nhiên (không thay thế) 10 phần tử từ mảng trên 5 lần. Hiển thị kết quả lựa chọn mỗi lần"
      ],
      "metadata": {
        "id": "tUZaZrRG0sGI"
      }
    },
    {
      "cell_type": "code",
      "source": [],
      "metadata": {
        "id": "tXwkCk7K0sGI"
      },
      "execution_count": null,
      "outputs": []
    },
    {
      "cell_type": "markdown",
      "source": [
        "10. Tìm phần tử xuất hiện nhiều nhất trong mảng"
      ],
      "metadata": {
        "id": "G9ZoBbS_xF3Y"
      }
    },
    {
      "cell_type": "code",
      "source": [],
      "metadata": {
        "id": "1NNgQOr_0ysP"
      },
      "execution_count": null,
      "outputs": []
    }
  ]
}